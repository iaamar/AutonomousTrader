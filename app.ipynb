{
 "cells": [
  {
   "cell_type": "markdown",
   "metadata": {},
   "source": [
    "<table style=\"margin: 0; text-align: left; width:100%\">\n",
    "    <tr>\n",
    "        <td style=\"width: 220px; height: 150px; vertical-align: middle;\">\n",
    "            <img src=\"./assets/aaa.png\" width=\"220\" height=\"150\" style=\"display: block;\" />\n",
    "        </td>\n",
    "        <td>\n",
    "            <h2 style=\"color:#ff7800;\">Autonomous Traders</h2>\n",
    "            <span style=\"color:#ff7800;\">An equity trading simulation to illustrate autonomous agents powered by tools and resources from MCP servers.\n",
    "            </span>\n",
    "        </td>\n",
    "    </tr>\n",
    "</table>"
   ]
  },
  {
   "cell_type": "markdown",
   "metadata": {},
   "source": [
    "An equity trading simulation, with 4 Traders and a Researcher, powered by a 6 MCP servers with 44 tools & 2 resources:\n",
    "\n",
    "1. Our home-made Accounts MCP server (written by our engineering team!)\n",
    "2. Fetch (get webpage via a local headless browser)\n",
    "3. Memory\n",
    "4. Brave Search\n",
    "5. Financial data from Polygon\n",
    "6. The return of our Push Notification tool ❤️\n",
    "\n",
    "And a resource to read information about the trader's account, and their investment strategy.\n",
    "\n",
    "This lab looks at a new python module, `traders.py` that will manage a single trader on our trading floor.\n",
    "\n",
    "We will experiment and explore in the lab, and then migrate to a python module when we're ready."
   ]
  },
  {
   "cell_type": "markdown",
   "metadata": {},
   "source": [
    "<table style=\"margin: 0; text-align: left; width:100%\">\n",
    "    <tr>\n",
    "        <td style=\"width: 150px; height: 150px; vertical-align: middle;\">\n",
    "            <img src=\"./assets/stop.png\" width=\"150\" height=\"150\" style=\"display: block;\" />\n",
    "        </td>\n",
    "        <td>\n",
    "            <h2 style=\"color:#ff7800;\">One more time --</h2>\n",
    "            <span style=\"color:#ff7800;\">Please do not use this for actual trading decisions!!\n",
    "            </span>\n",
    "        </td>\n",
    "    </tr>\n",
    "</table>"
   ]
  },
  {
   "cell_type": "code",
   "execution_count": null,
   "metadata": {},
   "outputs": [],
   "source": [
    "pip install dotenv mcp openai-agents polygon-api-client"
   ]
  },
  {
   "cell_type": "code",
   "execution_count": 2,
   "metadata": {},
   "outputs": [
    {
     "data": {
      "text/plain": [
       "True"
      ]
     },
     "execution_count": 2,
     "metadata": {},
     "output_type": "execute_result"
    }
   ],
   "source": [
    "import os\n",
    "from dotenv import load_dotenv\n",
    "from agents import Agent, Runner, trace, Tool\n",
    "from agents.mcp import MCPServerStdio\n",
    "from IPython.display import Markdown, display\n",
    "from datetime import datetime\n",
    "from accounts_client import read_accounts_resource, read_strategy_resource\n",
    "from accounts import Account\n",
    "\n",
    "load_dotenv(override=True)"
   ]
  },
  {
   "cell_type": "markdown",
   "metadata": {},
   "source": [
    "### Let's start by gathering the MCP servers for our trader and researcher"
   ]
  },
  {
   "cell_type": "code",
   "execution_count": 3,
   "metadata": {},
   "outputs": [],
   "source": [
    "\n",
    "from market import is_paid_polygon, is_realtime_polygon\n",
    "\n",
    "load_dotenv(override=True)\n",
    "\n",
    "brave_env = {\"BRAVE_API_KEY\": os.getenv(\"BRAVE_API_KEY\")}\n",
    "polygon_api_key = os.getenv(\"POLYGON_API_KEY\")\n",
    "\n",
    "# The MCP server for the Trader to read Market Data\n",
    "\n",
    "if is_paid_polygon or is_realtime_polygon:\n",
    "    market_mcp = {\"command\": \"uvx\",\"args\": [\"--from\", \"git+https://github.com/polygon-io/mcp_polygon@master\", \"mcp_polygon\"], \"env\": {\"POLYGON_API_KEY\": polygon_api_key}}\n",
    "else:\n",
    "    market_mcp = ({\"command\": \"uv\", \"args\": [\"run\", \"market_server.py\"]})\n",
    "\n",
    "\n",
    "# The full set of MCP servers for the trader: Accounts, Push Notification and the Market\n",
    "\n",
    "trader_mcp_server_params = [\n",
    "    {\"command\": \"uv\", \"args\": [\"run\", \"accounts_server.py\"]},\n",
    "    {\"command\": \"uv\", \"args\": [\"run\", \"push_server.py\"]},\n",
    "    market_mcp\n",
    "]\n",
    "\n",
    "def researcher_mcp_server_params(name: str):\n",
    "    return [\n",
    "        {\"command\": \"uvx\", \"args\": [\"mcp-server-fetch\"]},\n",
    "        {\"command\": \"npx\", \"args\": [\"-y\", \"@modelcontextprotocol/server-brave-search\"], \"env\": {\"BRAVE_API_KEY\": os.getenv(\"BRAVE_API_KEY\")}},\n",
    "        {\"command\": \"npx\", \"args\": [\"-y\", \"mcp-memory-libsql\"], \"env\": {\"LIBSQL_URL\": f\"file:{name}.db\"}}\n",
    "    ]\n",
    "trader_mcp_servers = [MCPServerStdio(params) for params in trader_mcp_server_params]\n",
    "researcher_mcp_servers = [MCPServerStdio(params) for params in researcher_mcp_server_params(\"amar\")]\n",
    "mcp_servers = trader_mcp_servers + researcher_mcp_servers"
   ]
  },
  {
   "cell_type": "markdown",
   "metadata": {},
   "source": [
    "### Now let's make a Researcher Agent to do market research\n",
    "\n",
    "And turn it into a tool"
   ]
  },
  {
   "cell_type": "code",
   "execution_count": 4,
   "metadata": {},
   "outputs": [],
   "source": [
    "async def get_researcher(mcp_servers) -> Agent:\n",
    "    instructions = f\"\"\"You are a financial researcher. You are able to search the web for interesting financial news,\n",
    "look for possible trading opportunities, and help with research.\n",
    "Based on the request, you carry out necessary research and respond with your findings.\n",
    "Take time to make multiple searches to get a comprehensive overview, and then summarize your findings.\n",
    "If there isn't a specific request, then just respond with investment opportunities based on searching latest news.\n",
    "The current datetime is {datetime.now().strftime(\"%Y-%m-%d %H:%M:%S\")}\n",
    "\"\"\"\n",
    "    researcher = Agent(\n",
    "        name=\"Researcher\",\n",
    "        instructions=instructions,\n",
    "        model=\"gpt-4o-mini\",\n",
    "        mcp_servers=mcp_servers,\n",
    "    )\n",
    "    return researcher\n",
    "\n",
    "\n",
    "async def get_researcher_tool(mcp_servers) -> Tool:\n",
    "    researcher = await get_researcher(mcp_servers)\n",
    "    return researcher.as_tool(\n",
    "            tool_name=\"Researcher\",\n",
    "            tool_description=\"This tool researches online for news and opportunities, \\\n",
    "                either based on your specific request to look into a certain stock, \\\n",
    "                or generally for notable financial news and opportunities. \\\n",
    "                Describe what kind of research you're looking for.\"\n",
    "        )"
   ]
  },
  {
   "cell_type": "code",
   "execution_count": 4,
   "metadata": {},
   "outputs": [
    {
     "name": "stdout",
     "output_type": "stream",
     "text": [
      "Researcher is ready. Agent(name='Researcher', instructions=\"You are a financial researcher. You are able to search the web for interesting financial news,\\nlook for possible trading opportunities, and help with research.\\nBased on the request, you carry out necessary research and respond with your findings.\\nTake time to make multiple searches to get a comprehensive overview, and then summarize your findings.\\nIf there isn't a specific request, then just respond with investment opportunities based on searching latest news.\\nThe current datetime is 2025-05-20 14:27:08\\n\", handoff_description=None, handoffs=[], model='gpt-4o-mini', model_settings=ModelSettings(temperature=None, top_p=None, frequency_penalty=None, presence_penalty=None, tool_choice=None, parallel_tool_calls=None, truncation=None, max_tokens=None, reasoning=None, metadata=None, store=None, include_usage=None, extra_query=None, extra_body=None, extra_headers=None), tools=[], mcp_servers=[<agents.mcp.server.MCPServerStdio object at 0x104d68c50>, <agents.mcp.server.MCPServerStdio object at 0x106ef5bb0>, <agents.mcp.server.MCPServerStdio object at 0x106ef5cd0>], mcp_config={}, input_guardrails=[], output_guardrails=[], output_type=None, hooks=None, tool_use_behavior='run_llm_again', reset_tool_choice=True)\n"
     ]
    },
    {
     "data": {
      "text/markdown": [
       "Here are the latest updates on Amazon:\n",
       "\n",
       "1. **Financial Performance**:\n",
       "   - Amazon reported its first-quarter financial results for 2025, showing a 9% increase in net sales to **$155.7 billion**, compared to **$143.3 billion** in the same quarter last year. This growth reflects strong operational performance despite market challenges. More details can be found on [Amazon's Investor Relations](https://ir.aboutamazon.com/news-release/news-release-details/2025/Amazon-com-Announces-First-Quarter-Results/).\n",
       "\n",
       "2. **Stock Information**:\n",
       "   - The stock quote for Amazon (AMZN) can be tracked on financial platforms like Yahoo Finance, where you can find the latest price, history, and news relevant to the stock. Check it out [here](https://finance.yahoo.com/quote/AMZN/).\n",
       "\n",
       "3. **Market Impact**:\n",
       "   - There were discussions around Amazon's business strategies and stock performance, particularly following recent economic trends that might affect investor sentiment. Coverage includes various analytical reports available on platforms such as CBS News and Markets Insider.\n",
       "\n",
       "4. **Operational Insights**:\n",
       "   - As part of its growth strategy, Amazon continues to focus on customer obsession, innovation, and operational excellence. This approach is expected to bolster its long-term market position.\n",
       "\n",
       "5. **Company Announcements**:\n",
       "   - Amazon has also been involved in various public engagements and reports, further solidifying its brand image and market presence. More details can be followed on their dedicated news channels.\n",
       "\n",
       "For ongoing updates and detailed overviews, you might want to explore comprehensive financial news platforms such as [Global News](https://globalnews.ca/tag/amazon/) and [CBS News](https://www.cbsnews.com/tag/amazon/)."
      ],
      "text/plain": [
       "<IPython.core.display.Markdown object>"
      ]
     },
     "metadata": {},
     "output_type": "display_data"
    }
   ],
   "source": [
    "research_question = \"What's the latest news on Amazon?\"\n",
    "\n",
    "for server in researcher_mcp_servers:\n",
    "    await server.connect()\n",
    "researcher = await get_researcher(researcher_mcp_servers)\n",
    "with trace(\"Researcher\"):\n",
    "    print(\"Researcher is ready.\", researcher)\n",
    "    result = await Runner.run(researcher, research_question)\n",
    "display(Markdown(result.final_output))\n"
   ]
  },
  {
   "cell_type": "markdown",
   "metadata": {},
   "source": [
    "### Look at the trace\n",
    "\n",
    "https://platform.openai.com/traces"
   ]
  },
  {
   "cell_type": "code",
   "execution_count": 8,
   "metadata": {},
   "outputs": [
    {
     "name": "stdout",
     "output_type": "stream",
     "text": [
      "Reading account resource for Amar\n",
      "Result:  meta=None contents=[TextResourceContents(uri=AnyUrl('accounts://accounts_server/Amar'), mimeType='text/plain', text='{\"name\": \"amar\", \"balance\": 10000.0, \"strategy\": \"You are a day trader that aggressively buys and sells shares based on news and market conditions.\", \"holdings\": {}, \"transactions\": [], \"portfolio_value_time_series\": [[\"2025-05-20 14:55:00\", 10000.0]], \"total_portfolio_value\": 10000.0, \"total_profit_loss\": 0.0}')]\n"
     ]
    },
    {
     "data": {
      "text/markdown": [
       "{\"name\": \"amar\", \"balance\": 10000.0, \"strategy\": \"You are a day trader that aggressively buys and sells shares based on news and market conditions.\", \"holdings\": {}, \"transactions\": [], \"portfolio_value_time_series\": [[\"2025-05-20 14:55:00\", 10000.0]], \"total_portfolio_value\": 10000.0, \"total_profit_loss\": 0.0}"
      ],
      "text/plain": [
       "<IPython.core.display.Markdown object>"
      ]
     },
     "metadata": {},
     "output_type": "display_data"
    }
   ],
   "source": [
    "from mcp import StdioServerParameters\n",
    "\n",
    "amar_initial_strategy = \"You are a day trader that aggressively buys and sells shares based on news and market conditions.\"\n",
    "Account.get(\"Amar\").reset(amar_initial_strategy)\n",
    "params = StdioServerParameters(command=\"uv\", args=[\"run\", \"accounts_server.py\"], env=None)\n",
    "account_server = MCPServerStdio({\"command\": \"uv\", \"args\": [\"run\", \"accounts_server.py\"]})\n",
    "\n",
    "async def read_accounts_resource(name, server) -> str:\n",
    "    \"\"\"Read account information for the given name.\n",
    "    \n",
    "    Args:\n",
    "        name: The name of the account holder\n",
    "        \n",
    "    Returns:\n",
    "        Account report as a string\n",
    "    \"\"\"\n",
    "    print(f\"Reading account resource for {name}\")\n",
    "    \n",
    "    \n",
    "    result = await account_server.session.read_resource(f\"accounts://accounts_server/{name}\")\n",
    "    print(\"Result: \", result)\n",
    "    return result.contents[0].text\n",
    "    # async with stdio_client(params) as streams:\n",
    "    #     print(\"params\" , params)\n",
    "    #     print(\"streams\", streams)\n",
    "    #     async with mcp.ClientSession(*streams) as session:\n",
    "    #         print(\"Session created\", session)    \n",
    "    #         print(\"Session initialized\")\n",
    "    #         result = await session.read_resource(f\"accounts://accounts_server/{name}\")\n",
    "    #         print(\"result\", result)\n",
    "    #         return result.contents[0].text\n",
    "    \n",
    "\n",
    "await account_server.connect()\n",
    "display(Markdown(await read_accounts_resource(name=\"Amar\", server=account_server)))"
   ]
  },
  {
   "cell_type": "code",
   "execution_count": 10,
   "metadata": {},
   "outputs": [
    {
     "name": "stdout",
     "output_type": "stream",
     "text": [
      "Reading account resource for Amar\n",
      "Result:  meta=None contents=[TextResourceContents(uri=AnyUrl('accounts://accounts_server/Amar'), mimeType='text/plain', text='{\"name\": \"amar\", \"balance\": 10000.0, \"strategy\": \"You are a day trader that aggressively buys and sells shares based on news and market conditions.\", \"holdings\": {}, \"transactions\": [], \"portfolio_value_time_series\": [[\"2025-05-20 14:55:00\", 10000.0], [\"2025-05-20 14:56:32\", 10000.0], [\"2025-05-20 14:56:40\", 10000.0]], \"total_portfolio_value\": 10000.0, \"total_profit_loss\": 0.0}')]\n"
     ]
    },
    {
     "data": {
      "text/markdown": [
       "{\"name\": \"amar\", \"balance\": 10000.0, \"strategy\": \"You are a day trader that aggressively buys and sells shares based on news and market conditions.\", \"holdings\": {}, \"transactions\": [], \"portfolio_value_time_series\": [[\"2025-05-20 14:55:00\", 10000.0], [\"2025-05-20 14:56:32\", 10000.0], [\"2025-05-20 14:56:40\", 10000.0]], \"total_portfolio_value\": 10000.0, \"total_profit_loss\": 0.0}"
      ],
      "text/plain": [
       "<IPython.core.display.Markdown object>"
      ]
     },
     "metadata": {},
     "output_type": "display_data"
    },
    {
     "data": {
      "text/markdown": [
       "You are a day trader that aggressively buys and sells shares based on news and market conditions."
      ],
      "text/plain": [
       "<IPython.core.display.Markdown object>"
      ]
     },
     "metadata": {},
     "output_type": "display_data"
    }
   ],
   "source": [
    "\n",
    "display(Markdown(await read_accounts_resource(\"Amar\", account_server)))\n",
    "display(Markdown(await read_strategy_resource(\"Amar\")))"
   ]
  },
  {
   "cell_type": "markdown",
   "metadata": {},
   "source": [
    "### And now - to create our Trader Agent"
   ]
  },
  {
   "cell_type": "code",
   "execution_count": 12,
   "metadata": {},
   "outputs": [
    {
     "name": "stdout",
     "output_type": "stream",
     "text": [
      "Reading account resource for Amar\n",
      "Result:  meta=None contents=[TextResourceContents(uri=AnyUrl('accounts://accounts_server/Amar'), mimeType='text/plain', text='{\"name\": \"amar\", \"balance\": 10000.0, \"strategy\": \"You are a day trader that aggressively buys and sells shares based on news and market conditions.\", \"holdings\": {}, \"transactions\": [], \"portfolio_value_time_series\": [[\"2025-05-20 14:55:00\", 10000.0], [\"2025-05-20 14:56:32\", 10000.0], [\"2025-05-20 14:56:40\", 10000.0], [\"2025-05-20 14:57:10\", 10000.0]], \"total_portfolio_value\": 10000.0, \"total_profit_loss\": 0.0}')]\n"
     ]
    }
   ],
   "source": [
    "agent_name = \"Amar\"\n",
    "\n",
    "# Using MCP Servers to read resources\n",
    "account_details = await read_accounts_resource(agent_name, account_server)\n",
    "strategy = await read_strategy_resource(agent_name)\n",
    "\n",
    "instructions = f\"\"\"\n",
    "You are a trader that manages a portfolio of shares. Your name is {agent_name} and your account is under your name, {agent_name}.\n",
    "You have access to tools that allow you to search the internet for company news, check stock prices, and buy and sell shares.\n",
    "Your investment strategy for your portfolio is:\n",
    "{strategy}\n",
    "Your current holdings and balance is:\n",
    "{account_details}\n",
    "You have the tools to perform a websearch for relevant news and information.\n",
    "You have tools to check stock prices.\n",
    "You have tools to buy and sell shares.\n",
    "You have tools to save memory of companies, research and thinking so far.\n",
    "Please make use of these tools to manage your portfolio. Carry out trades as you see fit; do not wait for instructions or ask for confirmation.\n",
    "\"\"\"\n",
    "\n",
    "prompt = \"\"\"\n",
    "Use your tools to make decisions about your portfolio.\n",
    "Investigate the news and the market, make your decision, make the trades, and respond with a summary of your actions.\n",
    "\"\"\""
   ]
  },
  {
   "cell_type": "code",
   "execution_count": 13,
   "metadata": {},
   "outputs": [
    {
     "data": {
      "text/markdown": [
       "\n",
       "You are a trader that manages a portfolio of shares. Your name is Amar and your account is under your name, Amar.\n",
       "You have access to tools that allow you to search the internet for company news, check stock prices, and buy and sell shares.\n",
       "Your investment strategy for your portfolio is:\n",
       "You are a day trader that aggressively buys and sells shares based on news and market conditions.\n",
       "Your current holdings and balance is:\n",
       "{\"name\": \"amar\", \"balance\": 10000.0, \"strategy\": \"You are a day trader that aggressively buys and sells shares based on news and market conditions.\", \"holdings\": {}, \"transactions\": [], \"portfolio_value_time_series\": [[\"2025-05-20 14:55:00\", 10000.0], [\"2025-05-20 14:56:32\", 10000.0], [\"2025-05-20 14:56:40\", 10000.0], [\"2025-05-20 14:57:10\", 10000.0]], \"total_portfolio_value\": 10000.0, \"total_profit_loss\": 0.0}\n",
       "You have the tools to perform a websearch for relevant news and information.\n",
       "You have tools to check stock prices.\n",
       "You have tools to buy and sell shares.\n",
       "You have tools to save memory of companies, research and thinking so far.\n",
       "Please make use of these tools to manage your portfolio. Carry out trades as you see fit; do not wait for instructions or ask for confirmation.\n"
      ],
      "text/plain": [
       "<IPython.core.display.Markdown object>"
      ]
     },
     "metadata": {},
     "output_type": "display_data"
    }
   ],
   "source": [
    "display(Markdown(instructions))"
   ]
  },
  {
   "cell_type": "markdown",
   "metadata": {},
   "source": [
    "### And to run our Trader"
   ]
  },
  {
   "cell_type": "code",
   "execution_count": 14,
   "metadata": {},
   "outputs": [
    {
     "data": {
      "text/markdown": [
       "### Summary of Trades Executed\n",
       "\n",
       "1. **Buy AMZN (Amazon)**\n",
       "   - **Shares Bought**: 25\n",
       "   - **Price**: $34.068 per share\n",
       "   - **Rationale**: Analysts suggest this may be the last chance to buy Amazon under $200 with good future gains anticipated.\n",
       "   - **Transaction Timestamp**: 2025-05-20 14:59:18\n",
       "\n",
       "2. **Buy NVDA (Nvidia)**\n",
       "   - **Shares Bought**: 15\n",
       "   - **Price**: $91.182 per share\n",
       "   - **Rationale**: Nvidia's advancements in technology and positive market sentiment make it a strong investment opportunity.\n",
       "   - **Transaction Timestamp**: 2025-05-20 14:59:18\n",
       "\n",
       "### Portfolio Update\n",
       "- **Current Balance**: $7780.57\n",
       "- **Holdings**:\n",
       "  - Amazon: 25 shares\n",
       "  - Nvidia: 15 shares\n",
       "- **Total Portfolio Value**: $10,895.57\n",
       "- **Total Profit/Loss**: +$895.57\n",
       "\n",
       "### Conclusion\n",
       "These trades position the portfolio well within the booming tech sector, especially focusing on companies at the forefront of the AI revolution. Monitoring of these positions will continue as the market evolves."
      ],
      "text/plain": [
       "<IPython.core.display.Markdown object>"
      ]
     },
     "metadata": {},
     "output_type": "display_data"
    }
   ],
   "source": [
    "for server in mcp_servers:\n",
    "    await server.connect()\n",
    "\n",
    "researcher_tool = await get_researcher_tool(researcher_mcp_servers)\n",
    "trader = Agent(\n",
    "    name=agent_name,\n",
    "    instructions=instructions,\n",
    "    tools=[researcher_tool],\n",
    "    mcp_servers=trader_mcp_servers,\n",
    "    model=\"gpt-4o-mini\",\n",
    ")\n",
    "with trace(agent_name):\n",
    "    result = await Runner.run(trader, prompt)\n",
    "display(Markdown(result.final_output))"
   ]
  },
  {
   "cell_type": "markdown",
   "metadata": {},
   "source": [
    "### Now it's time to review the Python module made from this:\n",
    "\n",
    "`mcp_servers.py` is where the MCP servers are specified. You'll notice I've brought in some familiar friends: memory and push notifications!\n",
    "\n",
    "`templates.py` is where the instructions and messages are set up (i.e. the System prompts and User prompts)\n",
    "\n",
    "`traders.py` brings it all together.\n"
   ]
  }
 ],
 "metadata": {
  "kernelspec": {
   "display_name": ".venv",
   "language": "python",
   "name": "python3"
  },
  "language_info": {
   "codemirror_mode": {
    "name": "ipython",
    "version": 3
   },
   "file_extension": ".py",
   "mimetype": "text/x-python",
   "name": "python",
   "nbconvert_exporter": "python",
   "pygments_lexer": "ipython3",
   "version": "3.12.10"
  }
 },
 "nbformat": 4,
 "nbformat_minor": 2
}
